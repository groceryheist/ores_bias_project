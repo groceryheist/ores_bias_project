{
 "cells": [
  {
   "cell_type": "code",
   "execution_count": 120,
   "metadata": {},
   "outputs": [],
   "source": [
    "import pandas as pd\n",
    "import numpy as np\n",
    "\n",
    "import pyspark.sql.functions as f\n",
    "from pyspark.sql.types import *\n",
    "from pyspark.sql import Window\n",
    "from functools import reduce\n",
    "from pyspark.sql.functions import pandas_udf, PandasUDFType\n",
    "from pyspark.sql.functions import udf\n"
   ]
  },
  {
   "cell_type": "code",
   "execution_count": 121,
   "metadata": {},
   "outputs": [],
   "source": [
    "spark.sparkContext.addPyFile(\".local/lib/python3.5/site-packages/mwcomments-0.2.0-py3.5.egg\")\n",
    "spark.sparkContext.addPyFile(\".local/lib/python3.5/site-packages/sortedcontainers-2.1.0-py3.5.egg\")\n",
    "spark.sparkContext.addPyFile(\".local/lib/python3.5/site-packages/python_dateutil-2.8.0-py3.5.egg\")"
   ]
  },
  {
   "cell_type": "code",
   "execution_count": 122,
   "metadata": {},
   "outputs": [],
   "source": [
    "import mwcomments"
   ]
  },
  {
   "cell_type": "code",
   "execution_count": 123,
   "metadata": {},
   "outputs": [],
   "source": [
    "wtm = mwcomments.WikiToolMap.load_WikiToolMap()"
   ]
  },
  {
   "cell_type": "code",
   "execution_count": 124,
   "metadata": {},
   "outputs": [],
   "source": [
    "broad_wtm = sc.broadcast(wtm)"
   ]
  },
  {
   "cell_type": "code",
   "execution_count": 125,
   "metadata": {},
   "outputs": [],
   "source": [
    "def my_match_comment(comment, wiki, timestamp):\n",
    "    try: \n",
    "        result = list(broad_wtm.value.match(comment,wiki,timestamp))\n",
    "        return result\n",
    "    except Exception as e:\n",
    "        return [str(e),wiki,str(broad_wtm.value.wikiToolMap[wiki]._toolMap['undo'].match())]\n"
   ]
  },
  {
   "cell_type": "code",
   "execution_count": 126,
   "metadata": {},
   "outputs": [],
   "source": [
    "match_comment = udf(my_match_comment,returnType=ArrayType(StringType()))"
   ]
  },
  {
   "cell_type": "code",
   "execution_count": 127,
   "metadata": {},
   "outputs": [],
   "source": [
    "# build a table of cutoffs"
   ]
  },
  {
   "cell_type": "code",
   "execution_count": 128,
   "metadata": {},
   "outputs": [],
   "source": [
    "cutoffs = pd.read_csv(\"ores_bias_data/ores_rcfilters_cutoffs.csv\")"
   ]
  },
  {
   "cell_type": "code",
   "execution_count": 129,
   "metadata": {},
   "outputs": [],
   "source": [
    "# compare 14 days before and after the cutoff\n",
    "# unless there's another cutoff less than 28 days away, in which case split the difference\n",
    "by_wiki = cutoffs.groupby('wiki_db')"
   ]
  },
  {
   "cell_type": "code",
   "execution_count": 130,
   "metadata": {},
   "outputs": [],
   "source": [
    "cutoffs['date'] = pd.to_datetime(cutoffs.deploy_dt)\n",
    "cutoffs = cutoffs.drop(\"deploy_gap\",1)\n",
    "cutoffs = cutoffs.drop(\"deploy_dt\",1)\n",
    "cutoffs = cutoffs.drop(\"commit_dt\",1)\n"
   ]
  },
  {
   "cell_type": "code",
   "execution_count": 131,
   "metadata": {},
   "outputs": [],
   "source": [
    "def set_cutoff_period(df):\n",
    "    df = df.sort_values(by=['date'])\n",
    "    next_cutoff = df.shift(1)\n",
    "    df['time_since_last_cutoff']  = df.date - df.shift(1).date\n",
    "    df['time_till_next_cutoff']  = df.shift(-1).date - df.date\n",
    "    df = df.reset_index()\n",
    "    return df"
   ]
  },
  {
   "cell_type": "code",
   "execution_count": 132,
   "metadata": {},
   "outputs": [],
   "source": [
    "cutoffs = cutoffs.groupby(\"wiki_db\").apply(set_cutoff_period)"
   ]
  },
  {
   "cell_type": "code",
   "execution_count": 133,
   "metadata": {},
   "outputs": [],
   "source": [
    "cutoffs = cutoffs.drop('wiki_db',1).reset_index()\n",
    "cutoffs = cutoffs.drop(\"level_1\",1)"
   ]
  },
  {
   "cell_type": "code",
   "execution_count": null,
   "metadata": {},
   "outputs": [],
   "source": []
  },
  {
   "cell_type": "code",
   "execution_count": 134,
   "metadata": {},
   "outputs": [],
   "source": [
    "# what are the cases where the state lasts less than 30 days? "
   ]
  },
  {
   "cell_type": "code",
   "execution_count": 135,
   "metadata": {},
   "outputs": [],
   "source": [
    "select =[ 'wiki_db','has_ores','has_rcfilters','has_rcfilters_watchlist','time_since_last_cutoff','time_till_next_cutoff','date']"
   ]
  },
  {
   "cell_type": "code",
   "execution_count": null,
   "metadata": {},
   "outputs": [],
   "source": []
  },
  {
   "cell_type": "code",
   "execution_count": 136,
   "metadata": {},
   "outputs": [],
   "source": [
    "# there are not many such cases. We can special case them. \n",
    "# fawiki: bug leads to cutoff disabling ores for 2 days. These won't show up in any other interval, so ignore them. \n",
    "cutoffs = cutoffs.loc[~((cutoffs.wiki_db == 'fawiki') & ( (cutoffs.date == pd.to_datetime(\"2017-12-09 11:19:00\")) | (cutoffs.date == pd.to_datetime(\"2017-12-11 18:56:00\"))))]\n",
    "\n",
    "\n"
   ]
  },
  {
   "cell_type": "code",
   "execution_count": 137,
   "metadata": {},
   "outputs": [],
   "source": [
    "# etwiki, frwiki, and hewiki apparently turned on rcfilters 50 days after enabling ORES. This is OK. The periods overlap.\n",
    "\n",
    "#frwiki and ruwiki experienced a bug on the deployment of rcfilters to watchlist. So let's ignore them for those messages.   \n",
    "\n",
    "cutoffs = cutoffs.loc[~((cutoffs.wiki_db == 'frwiki') & (cutoffs.date >= pd.to_datetime(\"2017-11-09 14:35:00\")))]\n",
    "\n",
    "cutoffs = cutoffs.loc[~((cutoffs.wiki_db == 'ruwiki') & (cutoffs.date >= pd.to_datetime(\"2017-11-20 19:22:00\") ))]"
   ]
  },
  {
   "cell_type": "code",
   "execution_count": 138,
   "metadata": {},
   "outputs": [
    {
     "data": {
      "text/html": [
       "<div>\n",
       "<table border=\"1\" class=\"dataframe\">\n",
       "  <thead>\n",
       "    <tr style=\"text-align: right;\">\n",
       "      <th></th>\n",
       "      <th>wiki_db</th>\n",
       "      <th>has_ores</th>\n",
       "      <th>has_rcfilters</th>\n",
       "      <th>has_rcfilters_watchlist</th>\n",
       "      <th>time_since_last_cutoff</th>\n",
       "      <th>time_till_next_cutoff</th>\n",
       "      <th>date</th>\n",
       "    </tr>\n",
       "  </thead>\n",
       "  <tbody>\n",
       "    <tr>\n",
       "      <th>12</th>\n",
       "      <td>etwiki</td>\n",
       "      <td>True</td>\n",
       "      <td>False</td>\n",
       "      <td>False</td>\n",
       "      <td>NaT</td>\n",
       "      <td>50 days 05:26:00</td>\n",
       "      <td>2017-03-20 18:28:00</td>\n",
       "    </tr>\n",
       "    <tr>\n",
       "      <th>13</th>\n",
       "      <td>etwiki</td>\n",
       "      <td>True</td>\n",
       "      <td>True</td>\n",
       "      <td>False</td>\n",
       "      <td>50 days 05:26:00</td>\n",
       "      <td>308 days 17:24:00</td>\n",
       "      <td>2017-05-09 23:54:00</td>\n",
       "    </tr>\n",
       "    <tr>\n",
       "      <th>22</th>\n",
       "      <td>frwiki</td>\n",
       "      <td>False</td>\n",
       "      <td>False</td>\n",
       "      <td>False</td>\n",
       "      <td>NaT</td>\n",
       "      <td>55 days 07:02:00</td>\n",
       "      <td>2017-04-11 11:09:00</td>\n",
       "    </tr>\n",
       "    <tr>\n",
       "      <th>23</th>\n",
       "      <td>frwiki</td>\n",
       "      <td>True</td>\n",
       "      <td>True</td>\n",
       "      <td>False</td>\n",
       "      <td>55 days 07:02:00</td>\n",
       "      <td>156 days 20:24:00</td>\n",
       "      <td>2017-06-05 18:11:00</td>\n",
       "    </tr>\n",
       "    <tr>\n",
       "      <th>27</th>\n",
       "      <td>hewiki</td>\n",
       "      <td>True</td>\n",
       "      <td>False</td>\n",
       "      <td>False</td>\n",
       "      <td>NaT</td>\n",
       "      <td>29 days 10:38:00</td>\n",
       "      <td>2017-04-10 13:16:00</td>\n",
       "    </tr>\n",
       "    <tr>\n",
       "      <th>28</th>\n",
       "      <td>hewiki</td>\n",
       "      <td>True</td>\n",
       "      <td>True</td>\n",
       "      <td>False</td>\n",
       "      <td>29 days 10:38:00</td>\n",
       "      <td>308 days 17:24:00</td>\n",
       "      <td>2017-05-09 23:54:00</td>\n",
       "    </tr>\n",
       "    <tr>\n",
       "      <th>32</th>\n",
       "      <td>kowiki</td>\n",
       "      <td>False</td>\n",
       "      <td>True</td>\n",
       "      <td>True</td>\n",
       "      <td>NaT</td>\n",
       "      <td>0 days 00:00:00</td>\n",
       "      <td>2019-03-04 16:27:00</td>\n",
       "    </tr>\n",
       "    <tr>\n",
       "      <th>33</th>\n",
       "      <td>kowiki</td>\n",
       "      <td>True</td>\n",
       "      <td>True</td>\n",
       "      <td>True</td>\n",
       "      <td>0 days 00:00:00</td>\n",
       "      <td>NaT</td>\n",
       "      <td>2019-03-04 16:27:00</td>\n",
       "    </tr>\n",
       "    <tr>\n",
       "      <th>65</th>\n",
       "      <td>wikidatawiki</td>\n",
       "      <td>False</td>\n",
       "      <td>False</td>\n",
       "      <td>True</td>\n",
       "      <td>169 days 13:27:00</td>\n",
       "      <td>3 days 23:58:00</td>\n",
       "      <td>2017-10-26 13:21:00</td>\n",
       "    </tr>\n",
       "    <tr>\n",
       "      <th>66</th>\n",
       "      <td>wikidatawiki</td>\n",
       "      <td>True</td>\n",
       "      <td>True</td>\n",
       "      <td>True</td>\n",
       "      <td>3 days 23:58:00</td>\n",
       "      <td>28 days 05:52:00</td>\n",
       "      <td>2017-10-30 13:19:00</td>\n",
       "    </tr>\n",
       "    <tr>\n",
       "      <th>67</th>\n",
       "      <td>wikidatawiki</td>\n",
       "      <td>False</td>\n",
       "      <td>False</td>\n",
       "      <td>True</td>\n",
       "      <td>28 days 05:52:00</td>\n",
       "      <td>0 days 00:00:00</td>\n",
       "      <td>2017-11-27 19:11:00</td>\n",
       "    </tr>\n",
       "    <tr>\n",
       "      <th>68</th>\n",
       "      <td>wikidatawiki</td>\n",
       "      <td>True</td>\n",
       "      <td>True</td>\n",
       "      <td>True</td>\n",
       "      <td>0 days 00:00:00</td>\n",
       "      <td>NaT</td>\n",
       "      <td>2017-11-27 19:11:00</td>\n",
       "    </tr>\n",
       "  </tbody>\n",
       "</table>\n",
       "</div>"
      ],
      "text/plain": [
       "         wiki_db has_ores has_rcfilters has_rcfilters_watchlist  \\\n",
       "12        etwiki     True         False                   False   \n",
       "13        etwiki     True          True                   False   \n",
       "22        frwiki    False         False                   False   \n",
       "23        frwiki     True          True                   False   \n",
       "27        hewiki     True         False                   False   \n",
       "28        hewiki     True          True                   False   \n",
       "32        kowiki    False          True                    True   \n",
       "33        kowiki     True          True                    True   \n",
       "65  wikidatawiki    False         False                    True   \n",
       "66  wikidatawiki     True          True                    True   \n",
       "67  wikidatawiki    False         False                    True   \n",
       "68  wikidatawiki     True          True                    True   \n",
       "\n",
       "    time_since_last_cutoff  time_till_next_cutoff                date  \n",
       "12                     NaT       50 days 05:26:00 2017-03-20 18:28:00  \n",
       "13        50 days 05:26:00      308 days 17:24:00 2017-05-09 23:54:00  \n",
       "22                     NaT       55 days 07:02:00 2017-04-11 11:09:00  \n",
       "23        55 days 07:02:00      156 days 20:24:00 2017-06-05 18:11:00  \n",
       "27                     NaT       29 days 10:38:00 2017-04-10 13:16:00  \n",
       "28        29 days 10:38:00      308 days 17:24:00 2017-05-09 23:54:00  \n",
       "32                     NaT        0 days 00:00:00 2019-03-04 16:27:00  \n",
       "33         0 days 00:00:00                    NaT 2019-03-04 16:27:00  \n",
       "65       169 days 13:27:00        3 days 23:58:00 2017-10-26 13:21:00  \n",
       "66         3 days 23:58:00       28 days 05:52:00 2017-10-30 13:19:00  \n",
       "67        28 days 05:52:00        0 days 00:00:00 2017-11-27 19:11:00  \n",
       "68         0 days 00:00:00                    NaT 2017-11-27 19:11:00  "
      ]
     },
     "execution_count": 138,
     "metadata": {},
     "output_type": "execute_result"
    }
   ],
   "source": [
    "cutoffs.loc[(cutoffs.time_since_last_cutoff<=pd.Timedelta(60,'D')) | (cutoffs.time_till_next_cutoff<=pd.Timedelta(60,'D')), select]"
   ]
  },
  {
   "cell_type": "code",
   "execution_count": 139,
   "metadata": {},
   "outputs": [],
   "source": [
    "# kowiki was enabled over two commits with the same deploy time\n",
    "cutoffs = cutoffs.drop(32)"
   ]
  },
  {
   "cell_type": "code",
   "execution_count": 140,
   "metadata": {},
   "outputs": [
    {
     "data": {
      "text/html": [
       "<div>\n",
       "<table border=\"1\" class=\"dataframe\">\n",
       "  <thead>\n",
       "    <tr style=\"text-align: right;\">\n",
       "      <th></th>\n",
       "      <th>wiki_db</th>\n",
       "      <th>has_ores</th>\n",
       "      <th>has_rcfilters</th>\n",
       "      <th>has_rcfilters_watchlist</th>\n",
       "      <th>time_since_last_cutoff</th>\n",
       "      <th>time_till_next_cutoff</th>\n",
       "      <th>date</th>\n",
       "    </tr>\n",
       "  </thead>\n",
       "  <tbody>\n",
       "    <tr>\n",
       "      <th>63</th>\n",
       "      <td>wikidatawiki</td>\n",
       "      <td>True</td>\n",
       "      <td>False</td>\n",
       "      <td>False</td>\n",
       "      <td>NaT</td>\n",
       "      <td>321 days 08:41:00</td>\n",
       "      <td>2016-06-22 15:13:00</td>\n",
       "    </tr>\n",
       "    <tr>\n",
       "      <th>64</th>\n",
       "      <td>wikidatawiki</td>\n",
       "      <td>True</td>\n",
       "      <td>True</td>\n",
       "      <td>False</td>\n",
       "      <td>321 days 08:41:00</td>\n",
       "      <td>169 days 13:27:00</td>\n",
       "      <td>2017-05-09 23:54:00</td>\n",
       "    </tr>\n",
       "    <tr>\n",
       "      <th>65</th>\n",
       "      <td>wikidatawiki</td>\n",
       "      <td>False</td>\n",
       "      <td>False</td>\n",
       "      <td>True</td>\n",
       "      <td>169 days 13:27:00</td>\n",
       "      <td>3 days 23:58:00</td>\n",
       "      <td>2017-10-26 13:21:00</td>\n",
       "    </tr>\n",
       "    <tr>\n",
       "      <th>66</th>\n",
       "      <td>wikidatawiki</td>\n",
       "      <td>True</td>\n",
       "      <td>True</td>\n",
       "      <td>True</td>\n",
       "      <td>3 days 23:58:00</td>\n",
       "      <td>28 days 05:52:00</td>\n",
       "      <td>2017-10-30 13:19:00</td>\n",
       "    </tr>\n",
       "    <tr>\n",
       "      <th>67</th>\n",
       "      <td>wikidatawiki</td>\n",
       "      <td>False</td>\n",
       "      <td>False</td>\n",
       "      <td>True</td>\n",
       "      <td>28 days 05:52:00</td>\n",
       "      <td>0 days 00:00:00</td>\n",
       "      <td>2017-11-27 19:11:00</td>\n",
       "    </tr>\n",
       "    <tr>\n",
       "      <th>68</th>\n",
       "      <td>wikidatawiki</td>\n",
       "      <td>True</td>\n",
       "      <td>True</td>\n",
       "      <td>True</td>\n",
       "      <td>0 days 00:00:00</td>\n",
       "      <td>NaT</td>\n",
       "      <td>2017-11-27 19:11:00</td>\n",
       "    </tr>\n",
       "  </tbody>\n",
       "</table>\n",
       "</div>"
      ],
      "text/plain": [
       "         wiki_db has_ores has_rcfilters has_rcfilters_watchlist  \\\n",
       "63  wikidatawiki     True         False                   False   \n",
       "64  wikidatawiki     True          True                   False   \n",
       "65  wikidatawiki    False         False                    True   \n",
       "66  wikidatawiki     True          True                    True   \n",
       "67  wikidatawiki    False         False                    True   \n",
       "68  wikidatawiki     True          True                    True   \n",
       "\n",
       "    time_since_last_cutoff  time_till_next_cutoff                date  \n",
       "63                     NaT      321 days 08:41:00 2016-06-22 15:13:00  \n",
       "64       321 days 08:41:00      169 days 13:27:00 2017-05-09 23:54:00  \n",
       "65       169 days 13:27:00        3 days 23:58:00 2017-10-26 13:21:00  \n",
       "66         3 days 23:58:00       28 days 05:52:00 2017-10-30 13:19:00  \n",
       "67        28 days 05:52:00        0 days 00:00:00 2017-11-27 19:11:00  \n",
       "68         0 days 00:00:00                    NaT 2017-11-27 19:11:00  "
      ]
     },
     "execution_count": 140,
     "metadata": {},
     "output_type": "execute_result"
    }
   ],
   "source": [
    "cutoffs.loc[cutoffs.wiki_db == 'wikidatawiki',select]"
   ]
  },
  {
   "cell_type": "code",
   "execution_count": 141,
   "metadata": {},
   "outputs": [],
   "source": [
    "# wikidatawiki had an issue on 2017-10-30 and 2017-11-27 with the move to default on watchlist so we'll ignore that cutoff"
   ]
  },
  {
   "cell_type": "code",
   "execution_count": 142,
   "metadata": {},
   "outputs": [],
   "source": [
    "cutoffs = cutoffs.loc[~((cutoffs.wiki_db == 'wikidatawiki') & (cutoffs.date >= pd.to_datetime(\"2017-10-26 13:21:00\")))]\n"
   ]
  },
  {
   "cell_type": "code",
   "execution_count": 143,
   "metadata": {},
   "outputs": [
    {
     "data": {
      "text/html": [
       "<div>\n",
       "<table border=\"1\" class=\"dataframe\">\n",
       "  <thead>\n",
       "    <tr style=\"text-align: right;\">\n",
       "      <th></th>\n",
       "      <th>wiki_db</th>\n",
       "      <th>has_ores</th>\n",
       "      <th>has_rcfilters</th>\n",
       "      <th>has_rcfilters_watchlist</th>\n",
       "      <th>time_since_last_cutoff</th>\n",
       "      <th>time_till_next_cutoff</th>\n",
       "      <th>date</th>\n",
       "    </tr>\n",
       "  </thead>\n",
       "  <tbody>\n",
       "    <tr>\n",
       "      <th>12</th>\n",
       "      <td>etwiki</td>\n",
       "      <td>True</td>\n",
       "      <td>False</td>\n",
       "      <td>False</td>\n",
       "      <td>NaT</td>\n",
       "      <td>50 days 05:26:00</td>\n",
       "      <td>2017-03-20 18:28:00</td>\n",
       "    </tr>\n",
       "    <tr>\n",
       "      <th>13</th>\n",
       "      <td>etwiki</td>\n",
       "      <td>True</td>\n",
       "      <td>True</td>\n",
       "      <td>False</td>\n",
       "      <td>50 days 05:26:00</td>\n",
       "      <td>308 days 17:24:00</td>\n",
       "      <td>2017-05-09 23:54:00</td>\n",
       "    </tr>\n",
       "    <tr>\n",
       "      <th>22</th>\n",
       "      <td>frwiki</td>\n",
       "      <td>False</td>\n",
       "      <td>False</td>\n",
       "      <td>False</td>\n",
       "      <td>NaT</td>\n",
       "      <td>55 days 07:02:00</td>\n",
       "      <td>2017-04-11 11:09:00</td>\n",
       "    </tr>\n",
       "    <tr>\n",
       "      <th>23</th>\n",
       "      <td>frwiki</td>\n",
       "      <td>True</td>\n",
       "      <td>True</td>\n",
       "      <td>False</td>\n",
       "      <td>55 days 07:02:00</td>\n",
       "      <td>156 days 20:24:00</td>\n",
       "      <td>2017-06-05 18:11:00</td>\n",
       "    </tr>\n",
       "    <tr>\n",
       "      <th>27</th>\n",
       "      <td>hewiki</td>\n",
       "      <td>True</td>\n",
       "      <td>False</td>\n",
       "      <td>False</td>\n",
       "      <td>NaT</td>\n",
       "      <td>29 days 10:38:00</td>\n",
       "      <td>2017-04-10 13:16:00</td>\n",
       "    </tr>\n",
       "    <tr>\n",
       "      <th>28</th>\n",
       "      <td>hewiki</td>\n",
       "      <td>True</td>\n",
       "      <td>True</td>\n",
       "      <td>False</td>\n",
       "      <td>29 days 10:38:00</td>\n",
       "      <td>308 days 17:24:00</td>\n",
       "      <td>2017-05-09 23:54:00</td>\n",
       "    </tr>\n",
       "    <tr>\n",
       "      <th>33</th>\n",
       "      <td>kowiki</td>\n",
       "      <td>True</td>\n",
       "      <td>True</td>\n",
       "      <td>True</td>\n",
       "      <td>0 days 00:00:00</td>\n",
       "      <td>NaT</td>\n",
       "      <td>2019-03-04 16:27:00</td>\n",
       "    </tr>\n",
       "  </tbody>\n",
       "</table>\n",
       "</div>"
      ],
      "text/plain": [
       "   wiki_db has_ores has_rcfilters has_rcfilters_watchlist  \\\n",
       "12  etwiki     True         False                   False   \n",
       "13  etwiki     True          True                   False   \n",
       "22  frwiki    False         False                   False   \n",
       "23  frwiki     True          True                   False   \n",
       "27  hewiki     True         False                   False   \n",
       "28  hewiki     True          True                   False   \n",
       "33  kowiki     True          True                    True   \n",
       "\n",
       "    time_since_last_cutoff  time_till_next_cutoff                date  \n",
       "12                     NaT       50 days 05:26:00 2017-03-20 18:28:00  \n",
       "13        50 days 05:26:00      308 days 17:24:00 2017-05-09 23:54:00  \n",
       "22                     NaT       55 days 07:02:00 2017-04-11 11:09:00  \n",
       "23        55 days 07:02:00      156 days 20:24:00 2017-06-05 18:11:00  \n",
       "27                     NaT       29 days 10:38:00 2017-04-10 13:16:00  \n",
       "28        29 days 10:38:00      308 days 17:24:00 2017-05-09 23:54:00  \n",
       "33         0 days 00:00:00                    NaT 2019-03-04 16:27:00  "
      ]
     },
     "execution_count": 143,
     "metadata": {},
     "output_type": "execute_result"
    }
   ],
   "source": [
    "cutoffs.loc[(cutoffs.time_since_last_cutoff<=pd.Timedelta(60,'D')) | (cutoffs.time_till_next_cutoff<=pd.Timedelta(60,'D')), select]"
   ]
  },
  {
   "cell_type": "code",
   "execution_count": 144,
   "metadata": {},
   "outputs": [],
   "source": [
    "# build a table of date intervals before and after cutoffs"
   ]
  },
  {
   "cell_type": "code",
   "execution_count": 145,
   "metadata": {},
   "outputs": [],
   "source": [
    "cutoffs['period_start'] = cutoffs.date - pd.Timedelta(14,'d')\n",
    "cutoffs['period_end'] = cutoffs.date + pd.Timedelta(14,'d')"
   ]
  },
  {
   "cell_type": "code",
   "execution_count": 147,
   "metadata": {},
   "outputs": [
    {
     "ename": "TypeError",
     "evalue": "data is already a DataFrame",
     "output_type": "error",
     "traceback": [
      "\u001b[0;31m---------------------------------------------------------------------------\u001b[0m",
      "\u001b[0;31mTypeError\u001b[0m                                 Traceback (most recent call last)",
      "\u001b[0;32m<ipython-input-147-fb1f412dff5b>\u001b[0m in \u001b[0;36m<module>\u001b[0;34m()\u001b[0m\n\u001b[0;32m----> 1\u001b[0;31m \u001b[0mcutoffs\u001b[0m \u001b[0;34m=\u001b[0m \u001b[0mspark\u001b[0m\u001b[0;34m.\u001b[0m\u001b[0mcreateDataFrame\u001b[0m\u001b[0;34m(\u001b[0m\u001b[0mcutoffs\u001b[0m\u001b[0;34m[\u001b[0m\u001b[0;34m[\u001b[0m\u001b[0;34m'wiki_db'\u001b[0m\u001b[0;34m,\u001b[0m\u001b[0;34m'period_start'\u001b[0m\u001b[0;34m,\u001b[0m\u001b[0;34m'period_end'\u001b[0m\u001b[0;34m,\u001b[0m\u001b[0;34m'date'\u001b[0m\u001b[0;34m]\u001b[0m\u001b[0;34m]\u001b[0m\u001b[0;34m)\u001b[0m\u001b[0;34m\u001b[0m\u001b[0m\n\u001b[0m",
      "\u001b[0;32m/usr/lib/spark2/python/pyspark/sql/session.py\u001b[0m in \u001b[0;36mcreateDataFrame\u001b[0;34m(self, data, schema, samplingRatio, verifySchema)\u001b[0m\n\u001b[1;32m    629\u001b[0m         \"\"\"\n\u001b[1;32m    630\u001b[0m         \u001b[0;32mif\u001b[0m \u001b[0misinstance\u001b[0m\u001b[0;34m(\u001b[0m\u001b[0mdata\u001b[0m\u001b[0;34m,\u001b[0m \u001b[0mDataFrame\u001b[0m\u001b[0;34m)\u001b[0m\u001b[0;34m:\u001b[0m\u001b[0;34m\u001b[0m\u001b[0m\n\u001b[0;32m--> 631\u001b[0;31m             \u001b[0;32mraise\u001b[0m \u001b[0mTypeError\u001b[0m\u001b[0;34m(\u001b[0m\u001b[0;34m\"data is already a DataFrame\"\u001b[0m\u001b[0;34m)\u001b[0m\u001b[0;34m\u001b[0m\u001b[0m\n\u001b[0m\u001b[1;32m    632\u001b[0m \u001b[0;34m\u001b[0m\u001b[0m\n\u001b[1;32m    633\u001b[0m         \u001b[0;32mif\u001b[0m \u001b[0misinstance\u001b[0m\u001b[0;34m(\u001b[0m\u001b[0mschema\u001b[0m\u001b[0;34m,\u001b[0m \u001b[0mbasestring\u001b[0m\u001b[0;34m)\u001b[0m\u001b[0;34m:\u001b[0m\u001b[0;34m\u001b[0m\u001b[0m\n",
      "\u001b[0;31mTypeError\u001b[0m: data is already a DataFrame"
     ]
    }
   ],
   "source": [
    "cutoffs = spark.createDataFrame(cutoffs[['wiki_db','period_start','period_end','date']])"
   ]
  },
  {
   "cell_type": "code",
   "execution_count": 148,
   "metadata": {},
   "outputs": [],
   "source": [
    "# take a stratified sample of edits in the cutoffs\n",
    "# stratify by wiki_db, is_newcomer, is_anon, is_reverted, and revert_tool\n",
    "wmhist = spark.read.table(\"wmf.mediawiki_history\")\n",
    "\n",
    "wmhist = wmhist.filter(f.col(\"snapshot\") == \"2019-07\")\n",
    "# ok we're ready to fire up spark and make a stratified sample\n",
    "# we only need the latest snapshot\n",
    "\n",
    "wmhist = wmhist.filter((f.col(\"event_entity\") == \"revision\"))"
   ]
  },
  {
   "cell_type": "code",
   "execution_count": 149,
   "metadata": {},
   "outputs": [],
   "source": [
    "# filter to just the edits in the study windows\n",
    "cutoffs = cutoffs.withColumnRenamed(existing='wiki_db',new='wiki_db_x')\n",
    "\n",
    "join_cond = [wmhist.event_timestamp >= cutoffs.period_start, wmhist.event_timestamp <= cutoffs.period_end,wmhist.wiki_db == cutoffs.wiki_db_x]\n",
    "wmhist = wmhist.join(cutoffs, on=join_cond,how='leftouter')"
   ]
  },
  {
   "cell_type": "code",
   "execution_count": 153,
   "metadata": {},
   "outputs": [],
   "source": [
    "wmhist = wmhist.withColumn(\"sec_to_cutoff\", (f.unix_timestamp(f.col(\"event_timestamp\")) - f.unix_timestamp(f.col(\"date\"))) / 1000)"
   ]
  },
  {
   "cell_type": "code",
   "execution_count": null,
   "metadata": {},
   "outputs": [],
   "source": [
    "edits = edits.withColumn(\"event_user_is_newcomer\", (wmhist.event_user_is_anonymous == False) & (f.datediff(wmhist.event_timestamp, wmhist.event_user_creation_timestamp) < 30))"
   ]
  },
  {
   "cell_type": "code",
   "execution_count": null,
   "metadata": {},
   "outputs": [],
   "source": [
    "edits2 = edits.select(['wiki_db','event_timestamp','event_user_is_anonymous','event_user_is_anonymous','revision_id','revision_is_identity_reverted','rcfilters_cutoff','week','sec_to_cutoff'])"
   ]
  },
  {
   "cell_type": "code",
   "execution_count": null,
   "metadata": {},
   "outputs": [],
   "source": [
    "edits2.show()"
   ]
  },
  {
   "cell_type": "code",
   "execution_count": null,
   "metadata": {},
   "outputs": [],
   "source": [
    "spark.catalog.listDatabases()"
   ]
  },
  {
   "cell_type": "code",
   "execution_count": null,
   "metadata": {},
   "outputs": [],
   "source": [
    "ores_scores = spark.read.table(\"ores.revision_score_public\")"
   ]
  },
  {
   "cell_type": "code",
   "execution_count": null,
   "metadata": {},
   "outputs": [],
   "source": [
    "ores_scores = ores_scores.filter((f.col(\"model\")==\"damaging\") & f.col(\"model_version\") == \"0.3.2\")"
   ]
  },
  {
   "cell_type": "code",
   "execution_count": null,
   "metadata": {},
   "outputs": [],
   "source": [
    "edits = edits.join(ores_scores,on=[edits.wiki_db == ores_scores.wiki, edits.revision_id == ores_scores.rev_id])"
   ]
  },
  {
   "cell_type": "code",
   "execution_count": null,
   "metadata": {},
   "outputs": [],
   "source": [
    "edits2 = edits2.withColumn(\"wikiweek\",f.concat_ws(' ', edits.wiki_db, f.date_format(edits.week,'MM-dd-yyyy')))\n",
    "by_wiki_week = edits.groupby('wikiweek')"
   ]
  },
  {
   "cell_type": "code",
   "execution_count": null,
   "metadata": {},
   "outputs": [],
   "source": [
    "by_wiki_week = edits2.groupby(['wikiweek'])\n"
   ]
  },
  {
   "cell_type": "code",
   "execution_count": null,
   "metadata": {},
   "outputs": [],
   "source": [
    "# take a sample stratified of N = 5000 by wiki and week\n",
    "\n",
    "samp_design = by_wiki_week.count()\n",
    "samp_design = samp_design.withColumn(\"fraction\", f.when( 5000 < f.col(\"count\"),5000/f.col(\"count\")).otherwise(1))\n",
    "samp_design = samp_design.withColumn(\"weight\",1/samp_design.fraction)\n"
   ]
  },
  {
   "cell_type": "code",
   "execution_count": null,
   "metadata": {},
   "outputs": [],
   "source": [
    "samp_design"
   ]
  },
  {
   "cell_type": "code",
   "execution_count": null,
   "metadata": {},
   "outputs": [],
   "source": [
    "fractions = samp_design.select(['wikiweek','fraction']).collect()"
   ]
  },
  {
   "cell_type": "code",
   "execution_count": null,
   "metadata": {},
   "outputs": [],
   "source": [
    "fractions = {r.wikiweek:r.fraction for r in fractions}"
   ]
  },
  {
   "cell_type": "code",
   "execution_count": null,
   "metadata": {},
   "outputs": [],
   "source": [
    "fractions"
   ]
  },
  {
   "cell_type": "code",
   "execution_count": null,
   "metadata": {},
   "outputs": [],
   "source": [
    "sample = edits2.sampleBy(\"wikiweek\",fractions=fractions)"
   ]
  },
  {
   "cell_type": "code",
   "execution_count": null,
   "metadata": {},
   "outputs": [],
   "source": [
    "pddf_sample = sample.toPandas()"
   ]
  },
  {
   "cell_type": "code",
   "execution_count": null,
   "metadata": {},
   "outputs": [],
   "source": []
  }
 ],
 "metadata": {
  "kernelspec": {
   "display_name": "PySpark - YARN - 12g",
   "language": "python",
   "name": "spark_yarn_pyspak_nathante_12g"
  },
  "language_info": {
   "codemirror_mode": {
    "name": "ipython",
    "version": 3
   },
   "file_extension": ".py",
   "mimetype": "text/x-python",
   "name": "python",
   "nbconvert_exporter": "python",
   "pygments_lexer": "ipython3",
   "version": "3.5.3"
  }
 },
 "nbformat": 4,
 "nbformat_minor": 2
}
